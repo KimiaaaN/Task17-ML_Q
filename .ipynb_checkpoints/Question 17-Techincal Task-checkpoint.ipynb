{
 "cells": [
  {
   "cell_type": "code",
   "execution_count": 1,
   "id": "daa56c7f",
   "metadata": {},
   "outputs": [],
   "source": [
    "# Import libraries\n",
    "import pandas as pd\n",
    "import numpy as np\n",
    "from datetime import datetime \n",
    "import matplotlib.pyplot as plt\n",
    "from sklearn.model_selection import train_test_split\n",
    "from statsmodels.tsa.ar_model import AutoReg\n",
    "from statsmodels.tsa.arima.model import ARIMA\n",
    "from statsmodels.tsa.statespace.sarimax import SARIMAX\n",
    "from sklearn.metrics import mean_squared_error, mean_absolute_error"
   ]
  },
  {
   "cell_type": "code",
   "execution_count": 2,
   "id": "60389539",
   "metadata": {},
   "outputs": [],
   "source": [
    "# Load the dataset into a Pandas DataFrame\n",
    "df = pd.read_csv('municipality_bus_utilization.csv', header=None, names=['TIMESTAMP','MUNICIPALITY_ID','USAGE', 'TOTAL_CAPACITY'])\n"
   ]
  },
  {
   "cell_type": "code",
   "execution_count": 3,
   "id": "6199f797",
   "metadata": {},
   "outputs": [],
   "source": [
    "# Convert timestamp to datetime format\n",
    "df['TIMESTAMP'] = pd.to_datetime(df['TIMESTAMP'], format='%Y-%m-%d %H:%M:%S', errors='coerce')\n",
    "\n",
    "\n",
    " "
   ]
  },
  {
   "cell_type": "code",
   "execution_count": 4,
   "id": "36e06b97",
   "metadata": {},
   "outputs": [],
   "source": [
    "# Aggregate the two measurements for an hour by taking the max value for each hour\n",
    "df = df.groupby(['MUNICIPALITY_ID', pd.Grouper(key='TIMESTAMP', freq='H')])['USAGE'].max().reset_index()\n"
   ]
  },
  {
   "cell_type": "code",
   "execution_count": 5,
   "id": "bde7ff05",
   "metadata": {},
   "outputs": [],
   "source": [
    "# Interpolate missing values using linear interpolation\n",
    "df['USAGE'] = df.groupby('MUNICIPALITY_ID')['USAGE'].apply(lambda x: x.interpolate(method='linear'))\n"
   ]
  },
  {
   "cell_type": "code",
   "execution_count": 7,
   "id": "ed57d091",
   "metadata": {},
   "outputs": [],
   "source": [
    "# Split the data into training and testing sets\n",
    "train_data = df[df['TIMESTAMP'] < '2017-08-05']\n",
    "test_data = df[df['TIMESTAMP'] >= '2017-08-05']\n"
   ]
  },
  {
   "cell_type": "code",
   "execution_count": 8,
   "id": "000bb0ae",
   "metadata": {},
   "outputs": [],
   "source": [
    "# Define evaluation function\n",
    "def evaluate_model(y_true, y_pred):\n",
    "    mse = mean_squared_error(y_true, y_pred)\n",
    "    mae = mean_absolute_error(y_true, y_pred)\n",
    "    return mse, mae\n"
   ]
  },
  {
   "cell_type": "code",
   "execution_count": 9,
   "id": "1c2646db",
   "metadata": {},
   "outputs": [],
   "source": [
    "# Baseline model: Autoregression (AR)\n",
    "ar_models = {}\n",
    "\n",
    "for i in range(10):\n",
    "    data = pd.to_numeric(train_data[train_data['MUNICIPALITY_ID'] == i]['USAGE'])\n",
    "    if len(data) > 0:\n",
    "        model = AutoReg(data, lags=1)\n",
    "        ar_models[i] = model.fit()\n",
    "\n",
    "\n"
   ]
  },
  {
   "cell_type": "code",
   "execution_count": 17,
   "id": "805d31cb",
   "metadata": {},
   "outputs": [],
   "source": [
    "# Make predictions using the baseline model\n",
    "ar_predictions = {}\n",
    "for i in range(10):\n",
    "    if i in ar_models:\n",
    "        model = ar_models[i]\n",
    "        data = test_data[test_data['MUNICIPALITY_ID'] == i]['USAGE']\n",
    "        ar_predictions[i] = model.predict(start=len(train_data[train_data['MUNICIPALITY_ID'] == i]), end=len(train_data[train_data['MUNICIPALITY_ID'] == i])+len(data)-1)\n"
   ]
  },
  {
   "cell_type": "code",
   "execution_count": 18,
   "id": "fa337da0",
   "metadata": {},
   "outputs": [
    {
     "name": "stdout",
     "output_type": "stream",
     "text": [
      "No prediction found for municipality ID 0\n",
      "No prediction found for municipality ID 1\n",
      "No prediction found for municipality ID 2\n",
      "No prediction found for municipality ID 3\n",
      "No prediction found for municipality ID 4\n",
      "No prediction found for municipality ID 5\n",
      "No prediction found for municipality ID 6\n",
      "No prediction found for municipality ID 7\n",
      "No prediction found for municipality ID 8\n",
      "No prediction found for municipality ID 9\n"
     ]
    }
   ],
   "source": [
    "# Evaluate the performance of the baseline model\n",
    "ar_mse = []\n",
    "ar_mae = []\n",
    "for i in range(10):\n",
    "    y_true = test_data[test_data['MUNICIPALITY_ID'] == i]['USAGE']\n",
    "    if i in ar_predictions:\n",
    "        y_pred = ar_predictions[i]\n",
    "        mse, mae = evaluate_model(y_true, y_pred)\n",
    "        ar_mse.append(mse)\n",
    "        ar_mae.append(mae)\n",
    "    else:\n",
    "        print(f\"No prediction found for municipality ID {i}\")\n"
   ]
  },
  {
   "cell_type": "code",
   "execution_count": 19,
   "id": "2588bf05",
   "metadata": {},
   "outputs": [
    {
     "name": "stdout",
     "output_type": "stream",
     "text": [
      "Error fitting SARIMA model for municipality 0.\n",
      "Error fitting SARIMA model for municipality 1.\n",
      "Error fitting SARIMA model for municipality 2.\n",
      "Error fitting SARIMA model for municipality 3.\n",
      "Error fitting SARIMA model for municipality 4.\n",
      "Error fitting SARIMA model for municipality 5.\n",
      "Error fitting SARIMA model for municipality 6.\n",
      "Error fitting SARIMA model for municipality 7.\n",
      "Error fitting SARIMA model for municipality 8.\n",
      "Error fitting SARIMA model for municipality 9.\n"
     ]
    }
   ],
   "source": [
    "# Complex model: Seasonal ARIMA (SARIMA)\n",
    "import statsmodels.api as sm\n",
    "\n",
    "sarima_models = {}\n",
    "for i in range(10):\n",
    "    data = train_data[train_data['MUNICIPALITY_ID'] == i]['USAGE']\n",
    "    try:\n",
    "        model = sm.tsa.SARIMAX(data, order=(1, 1, 1), seasonal_order=(1, 0, 0, 24))\n",
    "        sarima_models[i] = model.fit()\n",
    "    except:\n",
    "        print(f\"Error fitting SARIMA model for municipality {i}.\")\n"
   ]
  },
  {
   "cell_type": "code",
   "execution_count": 16,
   "id": "f18ce643",
   "metadata": {},
   "outputs": [
    {
     "ename": "KeyError",
     "evalue": "0",
     "output_type": "error",
     "traceback": [
      "\u001b[1;31m---------------------------------------------------------------------------\u001b[0m",
      "\u001b[1;31mKeyError\u001b[0m                                  Traceback (most recent call last)",
      "\u001b[1;32m~\\AppData\\Local\\Temp/ipykernel_3776/3711219042.py\u001b[0m in \u001b[0;36m<module>\u001b[1;34m\u001b[0m\n\u001b[0;32m      2\u001b[0m \u001b[0msarima_predictions\u001b[0m \u001b[1;33m=\u001b[0m \u001b[1;33m{\u001b[0m\u001b[1;33m}\u001b[0m\u001b[1;33m\u001b[0m\u001b[1;33m\u001b[0m\u001b[0m\n\u001b[0;32m      3\u001b[0m \u001b[1;32mfor\u001b[0m \u001b[0mi\u001b[0m \u001b[1;32min\u001b[0m \u001b[0mrange\u001b[0m\u001b[1;33m(\u001b[0m\u001b[1;36m10\u001b[0m\u001b[1;33m)\u001b[0m\u001b[1;33m:\u001b[0m\u001b[1;33m\u001b[0m\u001b[1;33m\u001b[0m\u001b[0m\n\u001b[1;32m----> 4\u001b[1;33m     \u001b[0mmodel\u001b[0m \u001b[1;33m=\u001b[0m \u001b[0msarima_models\u001b[0m\u001b[1;33m[\u001b[0m\u001b[0mi\u001b[0m\u001b[1;33m]\u001b[0m\u001b[1;33m\u001b[0m\u001b[1;33m\u001b[0m\u001b[0m\n\u001b[0m\u001b[0;32m      5\u001b[0m     \u001b[0mdata\u001b[0m \u001b[1;33m=\u001b[0m \u001b[0mtest_data\u001b[0m\u001b[1;33m[\u001b[0m\u001b[0mtest_data\u001b[0m\u001b[1;33m[\u001b[0m\u001b[1;34m'MUNICIPALITY_ID'\u001b[0m\u001b[1;33m]\u001b[0m \u001b[1;33m==\u001b[0m \u001b[0mi\u001b[0m\u001b[1;33m]\u001b[0m\u001b[1;33m[\u001b[0m\u001b[1;34m'USAGE'\u001b[0m\u001b[1;33m]\u001b[0m\u001b[1;33m\u001b[0m\u001b[1;33m\u001b[0m\u001b[0m\n\u001b[0;32m      6\u001b[0m     \u001b[0msarima_predictions\u001b[0m\u001b[1;33m[\u001b[0m\u001b[0mi\u001b[0m\u001b[1;33m]\u001b[0m \u001b[1;33m=\u001b[0m \u001b[0mmodel\u001b[0m\u001b[1;33m.\u001b[0m\u001b[0mpredict\u001b[0m\u001b[1;33m(\u001b[0m\u001b[0mstart\u001b[0m\u001b[1;33m=\u001b[0m\u001b[0mlen\u001b[0m\u001b[1;33m(\u001b[0m\u001b[0mtrain_data\u001b[0m\u001b[1;33m[\u001b[0m\u001b[0mtrain_data\u001b[0m\u001b[1;33m[\u001b[0m\u001b[1;34m'MUNICIPALITY_ID'\u001b[0m\u001b[1;33m]\u001b[0m \u001b[1;33m==\u001b[0m \u001b[0mi\u001b[0m\u001b[1;33m]\u001b[0m\u001b[1;33m)\u001b[0m\u001b[1;33m,\u001b[0m \u001b[0mend\u001b[0m\u001b[1;33m=\u001b[0m\u001b[0mlen\u001b[0m\u001b[1;33m(\u001b[0m\u001b[0mtrain_data\u001b[0m\u001b[1;33m[\u001b[0m\u001b[0mtrain_data\u001b[0m\u001b[1;33m[\u001b[0m\u001b[1;34m'MUNICIPALITY_ID'\u001b[0m\u001b[1;33m]\u001b[0m \u001b[1;33m==\u001b[0m \u001b[0mi\u001b[0m\u001b[1;33m]\u001b[0m\u001b[1;33m)\u001b[0m\u001b[1;33m+\u001b[0m\u001b[0mlen\u001b[0m\u001b[1;33m(\u001b[0m\u001b[0mdata\u001b[0m\u001b[1;33m)\u001b[0m\u001b[1;33m-\u001b[0m\u001b[1;36m1\u001b[0m\u001b[1;33m)\u001b[0m\u001b[1;33m\u001b[0m\u001b[1;33m\u001b[0m\u001b[0m\n",
      "\u001b[1;31mKeyError\u001b[0m: 0"
     ]
    }
   ],
   "source": [
    "# Make predictions using the complex model\n",
    "sarima_predictions = {}\n",
    "for i in range(10):\n",
    "    model = sarima_models[i]\n",
    "    data = test_data[test_data['MUNICIPALITY_ID'] == i]['USAGE']\n",
    "    sarima_predictions[i] = model.predict(start=len(train_data[train_data['MUNICIPALITY_ID'] == i]), end=len(train_data[train_data['MUNICIPALITY_ID'] == i])+len(data)-1)\n"
   ]
  },
  {
   "cell_type": "code",
   "execution_count": 14,
   "id": "ae4c098a",
   "metadata": {},
   "outputs": [
    {
     "ename": "KeyError",
     "evalue": "0",
     "output_type": "error",
     "traceback": [
      "\u001b[1;31m---------------------------------------------------------------------------\u001b[0m",
      "\u001b[1;31mKeyError\u001b[0m                                  Traceback (most recent call last)",
      "\u001b[1;32m~\\AppData\\Local\\Temp/ipykernel_3776/3268408144.py\u001b[0m in \u001b[0;36m<module>\u001b[1;34m\u001b[0m\n\u001b[0;32m      4\u001b[0m \u001b[1;32mfor\u001b[0m \u001b[0mi\u001b[0m \u001b[1;32min\u001b[0m \u001b[0mrange\u001b[0m\u001b[1;33m(\u001b[0m\u001b[1;36m10\u001b[0m\u001b[1;33m)\u001b[0m\u001b[1;33m:\u001b[0m\u001b[1;33m\u001b[0m\u001b[1;33m\u001b[0m\u001b[0m\n\u001b[0;32m      5\u001b[0m     \u001b[0my_true\u001b[0m \u001b[1;33m=\u001b[0m \u001b[0mtest_data\u001b[0m\u001b[1;33m[\u001b[0m\u001b[0mtest_data\u001b[0m\u001b[1;33m[\u001b[0m\u001b[1;34m'MUNICIPALITY_ID'\u001b[0m\u001b[1;33m]\u001b[0m \u001b[1;33m==\u001b[0m \u001b[0mi\u001b[0m\u001b[1;33m]\u001b[0m\u001b[1;33m[\u001b[0m\u001b[1;34m'USAGE'\u001b[0m\u001b[1;33m]\u001b[0m\u001b[1;33m\u001b[0m\u001b[1;33m\u001b[0m\u001b[0m\n\u001b[1;32m----> 6\u001b[1;33m     \u001b[0my_pred\u001b[0m \u001b[1;33m=\u001b[0m \u001b[0msarima_predictions\u001b[0m\u001b[1;33m[\u001b[0m\u001b[0mi\u001b[0m\u001b[1;33m]\u001b[0m\u001b[1;33m\u001b[0m\u001b[1;33m\u001b[0m\u001b[0m\n\u001b[0m\u001b[0;32m      7\u001b[0m     \u001b[0mmse\u001b[0m\u001b[1;33m,\u001b[0m \u001b[0mmae\u001b[0m \u001b[1;33m=\u001b[0m \u001b[0mevaluate_model\u001b[0m\u001b[1;33m(\u001b[0m\u001b[0my_true\u001b[0m\u001b[1;33m,\u001b[0m \u001b[0my_pred\u001b[0m\u001b[1;33m)\u001b[0m\u001b[1;33m\u001b[0m\u001b[1;33m\u001b[0m\u001b[0m\n\u001b[0;32m      8\u001b[0m     \u001b[0msarima_mse\u001b[0m\u001b[1;33m.\u001b[0m\u001b[0mappend\u001b[0m\u001b[1;33m(\u001b[0m\u001b[0mmse\u001b[0m\u001b[1;33m)\u001b[0m\u001b[1;33m\u001b[0m\u001b[1;33m\u001b[0m\u001b[0m\n",
      "\u001b[1;31mKeyError\u001b[0m: 0"
     ]
    }
   ],
   "source": [
    "# Evaluate the performance of the complex model\n",
    "sarima_mse = []\n",
    "sarima_mae = []\n",
    "for i in range(10):\n",
    "    y_true = test_data[test_data['MUNICIPALITY_ID'] == i]['USAGE']\n",
    "    y_pred = sarima_predictions[i]\n",
    "    mse, mae = evaluate_model(y_true, y_pred)\n",
    "    sarima_mse.append(mse)\n",
    "    sarima_mae.append(mae)\n"
   ]
  },
  {
   "cell_type": "code",
   "execution_count": 15,
   "id": "42447913",
   "metadata": {},
   "outputs": [
    {
     "name": "stdout",
     "output_type": "stream",
     "text": [
      "Baseline Model (AR)\n",
      "MSE for the first week: nan\n",
      "MSE for the last week: nan\n",
      "MAE for the first week: nan\n",
      "MAE for the last week: nan\n",
      "\n",
      "Complex Model (SARIMA)\n",
      "MSE for the first week: nan\n",
      "MSE for the last week: nan\n",
      "MAE for the first week: nan\n",
      "MAE for the last week: nan\n"
     ]
    },
    {
     "name": "stderr",
     "output_type": "stream",
     "text": [
      "C:\\ProgramData\\Anaconda3\\lib\\site-packages\\numpy\\core\\fromnumeric.py:3419: RuntimeWarning: Mean of empty slice.\n",
      "  return _methods._mean(a, axis=axis, dtype=dtype,\n",
      "C:\\ProgramData\\Anaconda3\\lib\\site-packages\\numpy\\core\\_methods.py:188: RuntimeWarning: invalid value encountered in double_scalars\n",
      "  ret = ret.dtype.type(ret / rcount)\n"
     ]
    }
   ],
   "source": [
    "# Report the errors for the last two weeks separately\n",
    "print('Baseline Model (AR)')\n",
    "print('MSE for the first week:', np.mean(ar_mse[:5]))\n",
    "print('MSE for the last week:', np.mean(ar_mse[5:]))\n",
    "print('MAE for the first week:', np.mean(ar_mae[:5]))\n",
    "print('MAE for the last week:', np.mean(ar_mae[5:]))\n",
    "print()\n",
    "print('Complex Model (SARIMA)')\n",
    "print('MSE for the first week:', np.mean(sarima_mse[:5]))\n",
    "print('MSE for the last week:', np.mean(sarima_mse[5:]))\n",
    "print('MAE for the first week:', np.mean(sarima_mae[:5]))\n",
    "print('MAE for the last week:', np.mean(sarima_mae[5:]))"
   ]
  },
  {
   "cell_type": "code",
   "execution_count": null,
   "id": "72994338",
   "metadata": {},
   "outputs": [],
   "source": []
  },
  {
   "cell_type": "code",
   "execution_count": null,
   "id": "07f6dad4",
   "metadata": {},
   "outputs": [],
   "source": []
  }
 ],
 "metadata": {
  "kernelspec": {
   "display_name": "Python 3 (ipykernel)",
   "language": "python",
   "name": "python3"
  },
  "language_info": {
   "codemirror_mode": {
    "name": "ipython",
    "version": 3
   },
   "file_extension": ".py",
   "mimetype": "text/x-python",
   "name": "python",
   "nbconvert_exporter": "python",
   "pygments_lexer": "ipython3",
   "version": "3.9.7"
  }
 },
 "nbformat": 4,
 "nbformat_minor": 5
}
