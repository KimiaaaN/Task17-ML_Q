{
 "cells": [
  {
   "cell_type": "code",
   "execution_count": null,
   "id": "07f6dad4",
   "metadata": {},
   "outputs": [],
   "source": [
    "import pandas as pd\n",
    "import numpy as np\n",
    "from datetime import datetime\n",
    "from statsmodels.tsa.ar_model import AutoReg\n",
    "from statsmodels.tsa.statespace.sarimax import SARIMAX\n",
    "from sklearn.metrics import mean_squared_error, mean_absolute_error\n"
   ]
  },
  {
   "cell_type": "code",
   "execution_count": null,
   "id": "14a71bf3",
   "metadata": {},
   "outputs": [],
   "source": [
    "# Load data\n",
    "data = pd.read_csv('municipality_bus_utilization.csv', header=None, names=['TIMESTAMP','MUNICIPALITY_ID','USAGE', 'TOTAL_CAPACITY'])"
   ]
  },
  {
   "cell_type": "code",
   "execution_count": null,
   "id": "2f6888a5",
   "metadata": {},
   "outputs": [],
   "source": [
    "# Convert TIMESTAMP column to datetime format\n",
    "data['TIMESTAMP'] = pd.to_datetime(data['TIMESTAMP'], format='%Y-%m-%d %H:%M:%S',errors='coerce')"
   ]
  },
  {
   "cell_type": "code",
   "execution_count": null,
   "id": "aa2d87ef",
   "metadata": {},
   "outputs": [],
   "source": [
    "municipality_ids_df = pd.DataFrame(municipality_ids, columns=['MUNICIPALITY_ID'])"
   ]
  },
  {
   "cell_type": "code",
   "execution_count": null,
   "id": "83f1ed74",
   "metadata": {},
   "outputs": [],
   "source": [
    "# Set TIMESTAMP column as index\n",
    "data = data.set_index('TIMESTAMP')\n",
    "\n",
    "# Select only numeric columns\n",
    "numeric_data = data.select_dtypes(include=[np.number])\n",
    "\n",
    "# Resample data to hourly frequency and take the max value of each hour\n",
    "hourly_data = numeric_data.resample('H').max()\n",
    "\n"
   ]
  },
  {
   "cell_type": "code",
   "execution_count": null,
   "id": "70a20105",
   "metadata": {},
   "outputs": [],
   "source": [
    "# Resample data to hourly frequency and take the max value of each hour\n",
    "\n",
    "hourly_data = hourly_data.reindex(data.index, fill_value=np.nan)\n",
    "data = pd.concat([data, hourly_data], axis=1)\n"
   ]
  },
  {
   "cell_type": "code",
   "execution_count": null,
   "id": "16fd8042",
   "metadata": {},
   "outputs": [],
   "source": [
    "# Fill missing values with interpolation\n",
    "hourly_data = hourly_data.interpolate(method='linear')"
   ]
  },
  {
   "cell_type": "code",
   "execution_count": null,
   "id": "39029933",
   "metadata": {},
   "outputs": [],
   "source": [
    "# Split data into train and test sets\n",
    "hourly_data = hourly_data.sort_index()\n",
    "train_data = hourly_data.loc[:'2017-08-04']\n",
    "\n",
    "test_data = hourly_data.loc['2017-08-05':]\n",
    "\n"
   ]
  },
  {
   "cell_type": "code",
   "execution_count": null,
   "id": "0e35695c",
   "metadata": {},
   "outputs": [],
   "source": [
    "# Define evaluation function\n",
    "def evaluate_model(y_true, y_pred):\n",
    "    mse = mean_squared_error(y_true, y_pred)\n",
    "    mae = mean_absolute_error(y_true, y_pred)\n",
    "    return mse, mae"
   ]
  },
  {
   "cell_type": "code",
   "execution_count": null,
   "id": "94aa87cf",
   "metadata": {},
   "outputs": [],
   "source": [
    "## Train and evaluate baseline model for each municipality_id\n",
    "baseline_errors = []\n",
    "for i in range(10):\n",
    "    train = train_data[train_data['MUNICIPALITY_ID'] == i]['Usage'].values\n",
    "    test = test_data[test_data['MUNICIPALITY_ID'] == i]['Usage'].values\n",
    "    predictions = baseline_model(train)\n",
    "    error = mean_absolute_error(test, predictions)\n",
    "    baseline_errors.append(error)\n",
    "    \n",
    "print('Baseline errors:', baseline_errors)\n",
    "print('Mean baseline error:', np.mean(baseline_errors))\n"
   ]
  },
  {
   "cell_type": "code",
   "execution_count": null,
   "id": "caaba9ff",
   "metadata": {},
   "outputs": [],
   "source": [
    "# Train and evaluate baseline model for each municipality_id\n",
    "baseline_errors = []\n",
    "for i in range(10):\n",
    "    train = train_data[train_data['MUNICIPALITY_ID'] == i]['USAGE'].values\n",
    "    test = test_data[test_data['MUNICIPALITY_ID'] == i]['USAGE'].values\n",
    "    predictions = baseline_model(train)\n",
    "    mse, mae = evaluate_model(test, predictions)\n",
    "    baseline_errors.append((mse, mae))\n",
    "    print(f'Baseline model error for municipality {i}: MSE={mse:.2f}, MAE={mae:.2f}')"
   ]
  },
  {
   "cell_type": "code",
   "execution_count": null,
   "id": "979a9833",
   "metadata": {},
   "outputs": [],
   "source": [
    "# Train and evaluate SARIMA model for each municipality_id\n",
    "sarima_errors = []\n",
    "for i in range(10):\n",
    "    try:\n",
    "        train = train_data[train_data['MUNICIPALITY_ID'] == i]['USAGE']\n",
    "        test = test_data[test_data['MUNICIPALITY_ID'] == i]['USAGE']\n",
    "        model = SARIMAX(train, order=(1, 0, 1), seasonal_order=(1, 1, 0, 24))\n",
    "        model_fit = model.fit(disp=False)\n",
    "        predictions = model_fit.forecast(len(test))\n",
    "        mse, mae = evaluate_model(test, predictions)\n",
    "        sarima_errors.append((mse, mae))\n",
    "        print(f'SARIMA model error for municipality {i}: MSE={mse:.2f}, MAE={mae:.2f}')\n",
    "    except:\n",
    "        print(f'Error fitting SARIMA model for municipality {i}.')\n",
    "        sarima_errors.append((np.nan, np.nan))"
   ]
  },
  {
   "cell_type": "code",
   "execution_count": null,
   "id": "a4e6005e",
   "metadata": {},
   "outputs": [],
   "source": [
    "# Print overall error for baseline and SARIMA models\n",
    "baseline_mse = np.mean([e[0] for e in baseline_errors])\n",
    "baseline_mae = np.mean([e[1] for e in baseline_errors])\n",
    "print(f'Overall baseline model error: MSE={baseline_mse:.2f}, MAE={baseline_mae:.2f}')"
   ]
  },
  {
   "cell_type": "code",
   "execution_count": null,
   "id": "cba040e0",
   "metadata": {},
   "outputs": [],
   "source": [
    "sarima_mse = np.nanmean([e[0] for e in sarima_errors])\n",
    "sarima_mae = np.nanmean([e[1] for e in sarima_errors])\n",
    "print(f'Overall SARIMA model error: MSE={sarima_mse:.2f}, MAE={sarima_mae:.2"
   ]
  },
  {
   "cell_type": "code",
   "execution_count": null,
   "id": "ab6dba87",
   "metadata": {},
   "outputs": [],
   "source": []
  },
  {
   "cell_type": "code",
   "execution_count": null,
   "id": "86352467",
   "metadata": {},
   "outputs": [],
   "source": []
  },
  {
   "cell_type": "code",
   "execution_count": null,
   "id": "973d6ba2",
   "metadata": {},
   "outputs": [],
   "source": []
  }
 ],
 "metadata": {
  "kernelspec": {
   "display_name": "Python 3 (ipykernel)",
   "language": "python",
   "name": "python3"
  },
  "language_info": {
   "codemirror_mode": {
    "name": "ipython",
    "version": 3
   },
   "file_extension": ".py",
   "mimetype": "text/x-python",
   "name": "python",
   "nbconvert_exporter": "python",
   "pygments_lexer": "ipython3",
   "version": "3.9.7"
  }
 },
 "nbformat": 4,
 "nbformat_minor": 5
}
